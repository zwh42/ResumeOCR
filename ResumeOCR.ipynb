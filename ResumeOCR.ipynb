{
 "cells": [
  {
   "cell_type": "markdown",
   "metadata": {},
   "source": [
    "# Resume OCR"
   ]
  },
  {
   "cell_type": "markdown",
   "metadata": {},
   "source": [
    "### Enviroment Setup"
   ]
  },
  {
   "cell_type": "code",
   "execution_count": null,
   "metadata": {},
   "outputs": [],
   "source": [
    "import numpy as np\n",
    "import cnocr\n",
    "import jieba\n",
    "#from PIL import Image\n",
    "\n",
    "import cv2\n",
    "\n",
    "from perspective import correct_perspective\n",
    "\n",
    "import matplotlib.pyplot as plt\n",
    "\n",
    "%matplotlib inline\n",
    "plt.rcParams['figure.figsize'] = (60, 60)"
   ]
  },
  {
   "cell_type": "markdown",
   "metadata": {},
   "source": [
    "### explore the data"
   ]
  },
  {
   "cell_type": "code",
   "execution_count": null,
   "metadata": {},
   "outputs": [],
   "source": [
    "\n",
    "test_image_path = r\"C:\\Localdata\\GitHub\\ResumeOCR\\Resume_Info_Extractor_Competition_Images\\28.jpg\"\n",
    "\n",
    "image = cv2.imread(test_image_path)\n",
    "image = cv2.cvtColor(image, cv2.COLOR_BGR2RGB)\n",
    "\n",
    "print(type(image), image.shape)\n",
    "plt.imshow(image)\n",
    "plt.show()\n",
    "\n",
    "\n",
    "gray_image = cv2.cvtColor(image, cv2.COLOR_RGB2GRAY)\n",
    "print(type(gray_image), gray_image.shape)\n",
    "plt.imshow(gray_image, cmap=\"gray\")\n",
    "plt.show()\n",
    "\n",
    "blurred = cv2.GaussianBlur(gray_image, (3, 3), 0)\n",
    "plt.imshow(blurred, cmap=\"gray\")\n",
    "plt.show()\n"
   ]
  },
  {
   "cell_type": "code",
   "execution_count": null,
   "metadata": {},
   "outputs": [],
   "source": [
    "test = correct_perspective(image, intermediate=False)\n",
    "plt.imshow(test)"
   ]
  },
  {
   "cell_type": "code",
   "execution_count": null,
   "metadata": {},
   "outputs": [],
   "source": [
    "inverted = cv2.bitwise_not(blurred)\n",
    "plt.imshow(inverted, cmap=\"gray\")\n",
    "plt.show()\n",
    "cannyed  = cv2.Canny(inverted, 100, 255)\n",
    "plt.imshow(cannyed, cmap=\"gray\")\n",
    "plt.show()\n"
   ]
  },
  {
   "cell_type": "code",
   "execution_count": null,
   "metadata": {},
   "outputs": [],
   "source": [
    "lines = cv2.HoughLinesP(cannyed, 1, np.pi/180, 250)\n",
    "\n",
    "for i in range(int(np.size(lines)/4)):\n",
    "    for x1, y1, x2, y2 in lines[i]:\n",
    "        cv2.line(image.copy(), (x1, y1), (x2, y2), (255, 255, 0), 3)\n",
    "        \n",
    "plt.imshow(image)\n",
    "plt.show()"
   ]
  },
  {
   "cell_type": "code",
   "execution_count": null,
   "metadata": {},
   "outputs": [],
   "source": [
    "def to_cartesian(img, lines):\n",
    "    \"\"\"Convert lines in polar system to lines in Cartesian system.\"\"\"\n",
    "    height, width, _ = img.shape\n",
    "    coff = max(height, width)\n",
    "    cartesian = []\n",
    "    for rho, theta in lines:\n",
    "        a, b = np.cos(theta), np.sin(theta)\n",
    "        x0, y0 = a * rho, b * rho\n",
    "        x1, y1 = int(x0 + coff * (-b)), int(y0 + coff * (a))\n",
    "        x2, y2 = int(x0 - coff * (-b)), int(y0 - coff * (a))\n",
    "        cartesian.append((x1, y1, x2, y2))\n",
    "  \n",
    "    return cartesian\n",
    "\n",
    "def annotate_lines(img, lines):\n",
    "    \"\"\"Annotate lines in img.\"\"\"\n",
    "    annnotated = np.array(img)\n",
    "\n",
    "    for x1, y1, x2, y2 in lines:\n",
    "        cv2.line(annnotated, (x1, y1), (x2, y2), (0, 0, 255), 20)\n",
    "\n",
    "    return annnotated.astype(np.float32)\n",
    "\n",
    "def get_corners(lines, intersections):\n",
    "    \"\"\"Get corners among intersections of lines.\n",
    "     Limitation: this can only handle len(lines) == 4\n",
    "      \"\"\"\n",
    "      return np.array(list(set(i for j in intersections\n",
    "                             for i in j if len(i) > 0)),\n",
    "                  dtype=np.float32)[:4]"
   ]
  },
  {
   "cell_type": "code",
   "execution_count": null,
   "metadata": {},
   "outputs": [],
   "source": []
  },
  {
   "cell_type": "code",
   "execution_count": null,
   "metadata": {},
   "outputs": [],
   "source": []
  }
 ],
 "metadata": {
  "kernelspec": {
   "display_name": "Python 3",
   "language": "python",
   "name": "python3"
  },
  "language_info": {
   "codemirror_mode": {
    "name": "ipython",
    "version": 3
   },
   "file_extension": ".py",
   "mimetype": "text/x-python",
   "name": "python",
   "nbconvert_exporter": "python",
   "pygments_lexer": "ipython3",
   "version": "3.7.3"
  }
 },
 "nbformat": 4,
 "nbformat_minor": 2
}
